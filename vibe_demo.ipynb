{
  "nbformat": 4,
  "nbformat_minor": 0,
  "metadata": {
    "colab": {
      "name": "vibe_demo.ipynb",
      "provenance": [],
      "collapsed_sections": [],
      "toc_visible": true
    },
    "kernelspec": {
      "display_name": "Python 3",
      "name": "python3"
    },
    "accelerator": "GPU"
  },
  "cells": [
    {
      "cell_type": "markdown",
      "metadata": {
        "id": "9QmY4dDYpmfB"
      },
      "source": [
        "# VIBE: Video Inference for Human Body Pose and Shape Estimation\n",
        "\n",
        "Demo of the original PyTorch based implementation provided here: https://github.com/mkocabas/VIBE\n",
        "\n",
        "## Note\n",
        "Before running this notebook make sure that your runtime type is 'Python 3 with GPU acceleration'. Go to Edit > Notebook settings > Hardware Accelerator > Select \"GPU\".\n",
        "\n",
        "## More Info\n",
        "- Paper: https://arxiv.org/abs/1912.05656\n",
        "- Repo: https://github.com/mkocabas/VIBE"
      ]
    },
    {
      "cell_type": "code",
      "metadata": {
        "colab": {
          "base_uri": "https://localhost:8080/"
        },
        "id": "Tvd4cfPk5a0e",
        "outputId": "1f788dca-4d81-41c8-8dd7-88a5c8ce1b85"
      },
      "source": [
        "# Clone the repo\n",
        "!git clone https://github.com/bronwynbiro/pose-generation.git"
      ],
      "execution_count": 1,
      "outputs": [
        {
          "output_type": "stream",
          "text": [
            "Cloning into 'pose-generation'...\n",
            "remote: Enumerating objects: 447, done.\u001b[K\n",
            "remote: Counting objects: 100% (447/447), done.\u001b[K\n",
            "remote: Compressing objects: 100% (235/235), done.\u001b[K\n",
            "remote: Total 447 (delta 197), reused 447 (delta 197), pack-reused 0\u001b[K\n",
            "Receiving objects: 100% (447/447), 15.21 MiB | 42.55 MiB/s, done.\n",
            "Resolving deltas: 100% (197/197), done.\n"
          ],
          "name": "stdout"
        }
      ]
    },
    {
      "cell_type": "code",
      "metadata": {
        "colab": {
          "base_uri": "https://localhost:8080/"
        },
        "id": "KCuLgPjUXNSu",
        "outputId": "85a233db-bd68-4889-98ac-afbf5e576666"
      },
      "source": [
        "%cd pose-generation"
      ],
      "execution_count": 2,
      "outputs": [
        {
          "output_type": "stream",
          "text": [
            "/content/pose-generation\n"
          ],
          "name": "stdout"
        }
      ]
    },
    {
      "cell_type": "code",
      "metadata": {
        "colab": {
          "base_uri": "https://localhost:8080/",
          "height": 1000
        },
        "id": "Rs6UTvVO6Fxf",
        "outputId": "6a5e2701-67ff-42de-a7a2-91049ecf5ab1"
      },
      "source": [
        "# Install the other requirements\n",
        "!pip install torch==1.4.0 numpy==1.17.5\n",
        "!pip install git+https://github.com/giacaglia/pytube.git --upgrade\n",
        "!pip install -r requirements.txt\n",
        "!pip install ffmpeg-python"
      ],
      "execution_count": 9,
      "outputs": [
        {
          "output_type": "stream",
          "text": [
            "Requirement already satisfied: torch==1.4.0 in /usr/local/lib/python3.6/dist-packages (1.4.0)\n",
            "Requirement already satisfied: numpy==1.17.5 in /usr/local/lib/python3.6/dist-packages (1.17.5)\n",
            "Collecting git+https://github.com/giacaglia/pytube.git\n",
            "  Cloning https://github.com/giacaglia/pytube.git to /tmp/pip-req-build-3hfy7vm8\n",
            "  Running command git clone -q https://github.com/giacaglia/pytube.git /tmp/pip-req-build-3hfy7vm8\n",
            "Building wheels for collected packages: pytube\n",
            "  Building wheel for pytube (setup.py) ... \u001b[?25l\u001b[?25hdone\n",
            "  Created wheel for pytube: filename=pytube-9.5.3-cp36-none-any.whl size=32277 sha256=cd1ab047b3186f73d4c9bd876925721503ec9df79110ff2b651dc679abd92421\n",
            "  Stored in directory: /tmp/pip-ephem-wheel-cache-lj1h1sg5/wheels/49/5a/fe/342957c87dc4c1e1a244fbeffcdbf8a0f2c8db0277823f3bfd\n",
            "Successfully built pytube\n",
            "Installing collected packages: pytube\n",
            "  Found existing installation: pytube 9.5.3\n",
            "    Uninstalling pytube-9.5.3:\n",
            "      Successfully uninstalled pytube-9.5.3\n",
            "Successfully installed pytube-9.5.3\n",
            "Collecting git+https://github.com/mattloper/chumpy.git (from -r requirements.txt (line 24))\n",
            "  Cloning https://github.com/mattloper/chumpy.git to /tmp/pip-req-build-e_wf2m0g\n",
            "  Running command git clone -q https://github.com/mattloper/chumpy.git /tmp/pip-req-build-e_wf2m0g\n",
            "Collecting git+https://github.com/mkocabas/yolov3-pytorch.git (from -r requirements.txt (line 25))\n",
            "  Cloning https://github.com/mkocabas/yolov3-pytorch.git to /tmp/pip-req-build-c0kyn9ho\n",
            "  Running command git clone -q https://github.com/mkocabas/yolov3-pytorch.git /tmp/pip-req-build-c0kyn9ho\n",
            "Collecting git+https://github.com/mkocabas/multi-person-tracker.git (from -r requirements.txt (line 26))\n",
            "  Cloning https://github.com/mkocabas/multi-person-tracker.git to /tmp/pip-req-build-c1kc9t45\n",
            "  Running command git clone -q https://github.com/mkocabas/multi-person-tracker.git /tmp/pip-req-build-c1kc9t45\n",
            "Collecting tqdm==4.28.1\n",
            "\u001b[?25l  Downloading https://files.pythonhosted.org/packages/91/55/8cb23a97301b177e9c8e3226dba45bb454411de2cbd25746763267f226c2/tqdm-4.28.1-py2.py3-none-any.whl (45kB)\n",
            "\u001b[K     |████████████████████████████████| 51kB 7.3MB/s \n",
            "\u001b[?25hCollecting yacs==0.1.6\n",
            "  Downloading https://files.pythonhosted.org/packages/2f/51/9d613d67a8561a0cdf696c3909870f157ed85617fea3cff769bb7de09ef7/yacs-0.1.6-py3-none-any.whl\n",
            "Requirement already satisfied: h5py==2.10.0 in /usr/local/lib/python3.6/dist-packages (from -r requirements.txt (line 3)) (2.10.0)\n",
            "Requirement already satisfied: numpy==1.17.5 in /usr/local/lib/python3.6/dist-packages (from -r requirements.txt (line 4)) (1.17.5)\n",
            "Requirement already satisfied: scipy==1.4.1 in /usr/local/lib/python3.6/dist-packages (from -r requirements.txt (line 5)) (1.4.1)\n",
            "Collecting numba==0.47.0\n",
            "\u001b[?25l  Downloading https://files.pythonhosted.org/packages/f8/7d/f2b5ea8d5952115351e303d1aadbdd1c5b08f479d76456d43a5d7a3a8c88/numba-0.47.0-cp36-cp36m-manylinux1_x86_64.whl (3.7MB)\n",
            "\u001b[K     |████████████████████████████████| 3.7MB 27.0MB/s \n",
            "\u001b[?25hCollecting smplx==0.1.26\n",
            "  Downloading https://files.pythonhosted.org/packages/20/51/cd68a91ce99e9fa958128eb76d8ae4759124cd7326aa9e745d7e13b4e3bd/smplx-0.1.26-py3-none-any.whl\n",
            "Requirement already satisfied: gdown==3.6.4 in /usr/local/lib/python3.6/dist-packages (from -r requirements.txt (line 8)) (3.6.4)\n",
            "Collecting PyYAML==5.3.1\n",
            "\u001b[?25l  Downloading https://files.pythonhosted.org/packages/64/c2/b80047c7ac2478f9501676c988a5411ed5572f35d1beff9cae07d321512c/PyYAML-5.3.1.tar.gz (269kB)\n",
            "\u001b[K     |████████████████████████████████| 276kB 54.3MB/s \n",
            "\u001b[?25hCollecting joblib==0.14.1\n",
            "\u001b[?25l  Downloading https://files.pythonhosted.org/packages/28/5c/cf6a2b65a321c4a209efcdf64c2689efae2cb62661f8f6f4bb28547cf1bf/joblib-0.14.1-py2.py3-none-any.whl (294kB)\n",
            "\u001b[K     |████████████████████████████████| 296kB 54.4MB/s \n",
            "\u001b[?25hCollecting pillow==5.0.0\n",
            "\u001b[?25l  Downloading https://files.pythonhosted.org/packages/9a/2f/86941111d108fd060190c994f15881283b98693c1c370e74885cfc470eb3/Pillow-5.0.0-cp36-cp36m-manylinux1_x86_64.whl (5.9MB)\n",
            "\u001b[K     |████████████████████████████████| 5.9MB 43.8MB/s \n",
            "\u001b[?25hCollecting trimesh==3.5.25\n",
            "\u001b[?25l  Downloading https://files.pythonhosted.org/packages/49/27/ef35230cfa6ac06db56078ff025ecc19605b3a10a38b7a96b0461737cf21/trimesh-3.5.25.tar.gz (399kB)\n",
            "\u001b[K     |████████████████████████████████| 409kB 48.3MB/s \n",
            "\u001b[?25hCollecting pyrender==0.1.36\n",
            "\u001b[?25l  Downloading https://files.pythonhosted.org/packages/e0/09/4c72228de4f91d3192715f505e9b7d4ad8eb26150ef4b6b622138ca445e6/pyrender-0.1.36-py3-none-any.whl (1.2MB)\n",
            "\u001b[K     |████████████████████████████████| 1.2MB 36.1MB/s \n",
            "\u001b[?25hCollecting progress==1.5\n",
            "  Downloading https://files.pythonhosted.org/packages/38/ef/2e887b3d2b248916fc2121889ce68af8a16aaddbe82f9ae6533c24ff0d2b/progress-1.5.tar.gz\n",
            "Collecting filterpy==1.4.5\n",
            "\u001b[?25l  Downloading https://files.pythonhosted.org/packages/f6/1d/ac8914360460fafa1990890259b7fa5ef7ba4cd59014e782e4ab3ab144d8/filterpy-1.4.5.zip (177kB)\n",
            "\u001b[K     |████████████████████████████████| 184kB 52.5MB/s \n",
            "\u001b[?25hCollecting matplotlib==3.1.3\n",
            "\u001b[?25l  Downloading https://files.pythonhosted.org/packages/7e/07/4b361d6d0f4e08942575f83a11d33f36897e1aae4279046606dd1808778a/matplotlib-3.1.3-cp36-cp36m-manylinux1_x86_64.whl (13.1MB)\n",
            "\u001b[K     |████████████████████████████████| 13.1MB 23.2MB/s \n",
            "\u001b[?25hCollecting tensorflow==1.15.4\n",
            "\u001b[?25l  Downloading https://files.pythonhosted.org/packages/8e/64/7a19837dd54d3f53b1ce5ae346ab401dde9678e8f233220317000bfdb3e2/tensorflow-1.15.4-cp36-cp36m-manylinux2010_x86_64.whl (110.5MB)\n",
            "\u001b[K     |████████████████████████████████| 110.5MB 115kB/s \n",
            "\u001b[?25hCollecting tensorboard==1.15.0\n",
            "\u001b[?25l  Downloading https://files.pythonhosted.org/packages/1e/e9/d3d747a97f7188f48aa5eda486907f3b345cd409f0a0850468ba867db246/tensorboard-1.15.0-py3-none-any.whl (3.8MB)\n",
            "\u001b[K     |████████████████████████████████| 3.8MB 42.9MB/s \n",
            "\u001b[?25hCollecting torchvision==0.5.0\n",
            "\u001b[?25l  Downloading https://files.pythonhosted.org/packages/7e/90/6141bf41f5655c78e24f40f710fdd4f8a8aff6c8b7c6f0328240f649bdbe/torchvision-0.5.0-cp36-cp36m-manylinux1_x86_64.whl (4.0MB)\n",
            "\u001b[K     |████████████████████████████████| 4.0MB 49.5MB/s \n",
            "\u001b[?25hRequirement already satisfied: scikit-image==0.16.2 in /usr/local/lib/python3.6/dist-packages (from -r requirements.txt (line 20)) (0.16.2)\n",
            "Collecting scikit-video==1.1.11\n",
            "\u001b[?25l  Downloading https://files.pythonhosted.org/packages/b1/a6/c69cad508139a342810ae46e946ebb3256aa6e42f690d901bb68f50582e3/scikit_video-1.1.11-py2.py3-none-any.whl (2.3MB)\n",
            "\u001b[K     |████████████████████████████████| 2.3MB 36.9MB/s \n",
            "\u001b[?25hCollecting opencv-python==3.4.5.20\n",
            "\u001b[?25l  Downloading https://files.pythonhosted.org/packages/85/e1/d3eed618272f4b746339af1a84b2511e79c1708d88a9195cf25d743fa614/opencv_python-3.4.5.20-cp36-cp36m-manylinux1_x86_64.whl (25.4MB)\n",
            "\u001b[K     |████████████████████████████████| 25.4MB 130kB/s \n",
            "\u001b[?25hCollecting llvmlite==0.32.1\n",
            "\u001b[?25l  Downloading https://files.pythonhosted.org/packages/1c/fd/d029b53b19200a2b98bed69ba0354b37c236b44a93b34b3075c4aaab2d03/llvmlite-0.32.1-cp36-cp36m-manylinux1_x86_64.whl (20.2MB)\n",
            "\u001b[K     |████████████████████████████████| 20.2MB 1.3MB/s \n",
            "\u001b[?25hRequirement already satisfied: six>=1.11.0 in /usr/local/lib/python3.6/dist-packages (from chumpy==0.70->-r requirements.txt (line 24)) (1.15.0)\n",
            "Requirement already satisfied: setuptools in /usr/local/lib/python3.6/dist-packages (from numba==0.47.0->-r requirements.txt (line 6)) (51.3.3)\n",
            "Requirement already satisfied: torch>=1.0.1.post2 in /usr/local/lib/python3.6/dist-packages (from smplx==0.1.26->-r requirements.txt (line 7)) (1.4.0)\n",
            "Collecting torchgeometry>=0.1.2\n",
            "\u001b[?25l  Downloading https://files.pythonhosted.org/packages/a6/d6/3f6820c0589bc3876080c59b58a3bad11af746a7b46f364b1cde7972bd72/torchgeometry-0.1.2-py2.py3-none-any.whl (42kB)\n",
            "\u001b[K     |████████████████████████████████| 51kB 9.0MB/s \n",
            "\u001b[?25hRequirement already satisfied: requests in /usr/local/lib/python3.6/dist-packages (from gdown==3.6.4->-r requirements.txt (line 8)) (2.23.0)\n",
            "Requirement already satisfied: pyglet>=1.4.10 in /usr/local/lib/python3.6/dist-packages (from pyrender==0.1.36->-r requirements.txt (line 13)) (1.5.0)\n",
            "Collecting freetype-py\n",
            "\u001b[?25l  Downloading https://files.pythonhosted.org/packages/40/b5/56751e13f8b4a42f52c1b85ecce1446f83245190d820b42748eb8574ae43/freetype_py-2.2.0-py3-none-manylinux1_x86_64.whl (890kB)\n",
            "\u001b[K     |████████████████████████████████| 890kB 53.5MB/s \n",
            "\u001b[?25hCollecting PyOpenGL==3.1.0\n",
            "\u001b[?25l  Downloading https://files.pythonhosted.org/packages/9c/1d/4544708aaa89f26c97cc09450bb333a23724a320923e74d73e028b3560f9/PyOpenGL-3.1.0.tar.gz (1.2MB)\n",
            "\u001b[K     |████████████████████████████████| 1.2MB 58.1MB/s \n",
            "\u001b[?25hRequirement already satisfied: networkx in /usr/local/lib/python3.6/dist-packages (from pyrender==0.1.36->-r requirements.txt (line 13)) (2.5)\n",
            "Requirement already satisfied: imageio in /usr/local/lib/python3.6/dist-packages (from pyrender==0.1.36->-r requirements.txt (line 13)) (2.4.1)\n",
            "Requirement already satisfied: kiwisolver>=1.0.1 in /usr/local/lib/python3.6/dist-packages (from matplotlib==3.1.3->-r requirements.txt (line 16)) (1.3.1)\n",
            "Requirement already satisfied: cycler>=0.10 in /usr/local/lib/python3.6/dist-packages (from matplotlib==3.1.3->-r requirements.txt (line 16)) (0.10.0)\n",
            "Requirement already satisfied: python-dateutil>=2.1 in /usr/local/lib/python3.6/dist-packages (from matplotlib==3.1.3->-r requirements.txt (line 16)) (2.8.1)\n",
            "Requirement already satisfied: pyparsing!=2.0.4,!=2.1.2,!=2.1.6,>=2.0.1 in /usr/local/lib/python3.6/dist-packages (from matplotlib==3.1.3->-r requirements.txt (line 16)) (2.4.7)\n",
            "Collecting keras-applications>=1.0.8\n",
            "\u001b[?25l  Downloading https://files.pythonhosted.org/packages/71/e3/19762fdfc62877ae9102edf6342d71b28fbfd9dea3d2f96a882ce099b03f/Keras_Applications-1.0.8-py3-none-any.whl (50kB)\n",
            "\u001b[K     |████████████████████████████████| 51kB 9.0MB/s \n",
            "\u001b[?25hRequirement already satisfied: opt-einsum>=2.3.2 in /usr/local/lib/python3.6/dist-packages (from tensorflow==1.15.4->-r requirements.txt (line 17)) (3.3.0)\n",
            "Requirement already satisfied: wrapt>=1.11.1 in /usr/local/lib/python3.6/dist-packages (from tensorflow==1.15.4->-r requirements.txt (line 17)) (1.12.1)\n",
            "Collecting gast==0.2.2\n",
            "  Downloading https://files.pythonhosted.org/packages/4e/35/11749bf99b2d4e3cceb4d55ca22590b0d7c2c62b9de38ac4a4a7f4687421/gast-0.2.2.tar.gz\n",
            "Requirement already satisfied: wheel>=0.26; python_version >= \"3\" in /usr/local/lib/python3.6/dist-packages (from tensorflow==1.15.4->-r requirements.txt (line 17)) (0.36.2)\n",
            "Requirement already satisfied: protobuf>=3.6.1 in /usr/local/lib/python3.6/dist-packages (from tensorflow==1.15.4->-r requirements.txt (line 17)) (3.12.4)\n",
            "Collecting tensorflow-estimator==1.15.1\n",
            "\u001b[?25l  Downloading https://files.pythonhosted.org/packages/de/62/2ee9cd74c9fa2fa450877847ba560b260f5d0fb70ee0595203082dafcc9d/tensorflow_estimator-1.15.1-py2.py3-none-any.whl (503kB)\n",
            "\u001b[K     |████████████████████████████████| 512kB 44.3MB/s \n",
            "\u001b[?25hRequirement already satisfied: grpcio>=1.8.6 in /usr/local/lib/python3.6/dist-packages (from tensorflow==1.15.4->-r requirements.txt (line 17)) (1.32.0)\n",
            "Requirement already satisfied: google-pasta>=0.1.6 in /usr/local/lib/python3.6/dist-packages (from tensorflow==1.15.4->-r requirements.txt (line 17)) (0.2.0)\n",
            "Requirement already satisfied: astor>=0.6.0 in /usr/local/lib/python3.6/dist-packages (from tensorflow==1.15.4->-r requirements.txt (line 17)) (0.8.1)\n",
            "Requirement already satisfied: keras-preprocessing>=1.0.5 in /usr/local/lib/python3.6/dist-packages (from tensorflow==1.15.4->-r requirements.txt (line 17)) (1.1.2)\n",
            "Requirement already satisfied: absl-py>=0.7.0 in /usr/local/lib/python3.6/dist-packages (from tensorflow==1.15.4->-r requirements.txt (line 17)) (0.10.0)\n",
            "Requirement already satisfied: termcolor>=1.1.0 in /usr/local/lib/python3.6/dist-packages (from tensorflow==1.15.4->-r requirements.txt (line 17)) (1.1.0)\n",
            "Requirement already satisfied: werkzeug>=0.11.15 in /usr/local/lib/python3.6/dist-packages (from tensorboard==1.15.0->-r requirements.txt (line 18)) (1.0.1)\n",
            "Requirement already satisfied: markdown>=2.6.8 in /usr/local/lib/python3.6/dist-packages (from tensorboard==1.15.0->-r requirements.txt (line 18)) (3.3.3)\n",
            "Requirement already satisfied: PyWavelets>=0.4.0 in /usr/local/lib/python3.6/dist-packages (from scikit-image==0.16.2->-r requirements.txt (line 20)) (1.1.1)\n",
            "Requirement already satisfied: idna<3,>=2.5 in /usr/local/lib/python3.6/dist-packages (from requests->gdown==3.6.4->-r requirements.txt (line 8)) (2.10)\n",
            "Requirement already satisfied: chardet<4,>=3.0.2 in /usr/local/lib/python3.6/dist-packages (from requests->gdown==3.6.4->-r requirements.txt (line 8)) (3.0.4)\n",
            "Requirement already satisfied: certifi>=2017.4.17 in /usr/local/lib/python3.6/dist-packages (from requests->gdown==3.6.4->-r requirements.txt (line 8)) (2020.12.5)\n",
            "Requirement already satisfied: urllib3!=1.25.0,!=1.25.1,<1.26,>=1.21.1 in /usr/local/lib/python3.6/dist-packages (from requests->gdown==3.6.4->-r requirements.txt (line 8)) (1.24.3)\n",
            "Requirement already satisfied: future in /usr/local/lib/python3.6/dist-packages (from pyglet>=1.4.10->pyrender==0.1.36->-r requirements.txt (line 13)) (0.16.0)\n",
            "Requirement already satisfied: decorator>=4.3.0 in /usr/local/lib/python3.6/dist-packages (from networkx->pyrender==0.1.36->-r requirements.txt (line 13)) (4.4.2)\n",
            "Requirement already satisfied: importlib-metadata; python_version < \"3.8\" in /usr/local/lib/python3.6/dist-packages (from markdown>=2.6.8->tensorboard==1.15.0->-r requirements.txt (line 18)) (3.4.0)\n",
            "Requirement already satisfied: zipp>=0.5 in /usr/local/lib/python3.6/dist-packages (from importlib-metadata; python_version < \"3.8\"->markdown>=2.6.8->tensorboard==1.15.0->-r requirements.txt (line 18)) (3.4.0)\n",
            "Requirement already satisfied: typing-extensions>=3.6.4; python_version < \"3.8\" in /usr/local/lib/python3.6/dist-packages (from importlib-metadata; python_version < \"3.8\"->markdown>=2.6.8->tensorboard==1.15.0->-r requirements.txt (line 18)) (3.7.4.3)\n",
            "Building wheels for collected packages: PyYAML, trimesh, progress, filterpy, chumpy, yolov3, multi-person-tracker, PyOpenGL, gast\n",
            "  Building wheel for PyYAML (setup.py) ... \u001b[?25l\u001b[?25hdone\n",
            "  Created wheel for PyYAML: filename=PyYAML-5.3.1-cp36-cp36m-linux_x86_64.whl size=44621 sha256=d575d1f624b9305a02893dcfbafc9c5ebce113c5bd1e2836fd34d2d21a538452\n",
            "  Stored in directory: /root/.cache/pip/wheels/a7/c1/ea/cf5bd31012e735dc1dfea3131a2d5eae7978b251083d6247bd\n",
            "  Building wheel for trimesh (setup.py) ... \u001b[?25l\u001b[?25hdone\n",
            "  Created wheel for trimesh: filename=trimesh-3.5.25-cp36-none-any.whl size=452615 sha256=7933df2c65a134743ebe4adbf37b33ba15d92d7701d05af40d8ab369c19d6123\n",
            "  Stored in directory: /root/.cache/pip/wheels/3e/c4/04/57e315871e99277aafc0c7d065ea964bb669a2741be1a5d64e\n",
            "  Building wheel for progress (setup.py) ... \u001b[?25l\u001b[?25hdone\n",
            "  Created wheel for progress: filename=progress-1.5-cp36-none-any.whl size=8075 sha256=303669025be602214b766c3a619909eedea6d3c207f11ef03cb082ca49569479\n",
            "  Stored in directory: /root/.cache/pip/wheels/6c/c8/80/32a294e3041f006c661838c05a411c7b7ffc60ff939d14e116\n",
            "  Building wheel for filterpy (setup.py) ... \u001b[?25l\u001b[?25hdone\n",
            "  Created wheel for filterpy: filename=filterpy-1.4.5-cp36-none-any.whl size=110453 sha256=28955a26de8045cecb528856cfc46f6e0194bbae668544d88897939cd9953bc8\n",
            "  Stored in directory: /root/.cache/pip/wheels/c3/0c/dd/e92392c3f38a41371602d99fc77d6c1d42aadbf0c6afccdd02\n",
            "  Building wheel for chumpy (setup.py) ... \u001b[?25l\u001b[?25hdone\n",
            "  Created wheel for chumpy: filename=chumpy-0.70-cp36-none-any.whl size=60903 sha256=ffc5548614158b736f7c4118f479177f8886885a57dc0380c21cdf0fba5a023c\n",
            "  Stored in directory: /tmp/pip-ephem-wheel-cache-hsdgx0i6/wheels/ed/d0/74/8aeda0556643bb15fb13da4e031831bbfdcf716da2507999a6\n",
            "  Building wheel for yolov3 (setup.py) ... \u001b[?25l\u001b[?25hdone\n",
            "  Created wheel for yolov3: filename=yolov3-0.1-cp36-none-any.whl size=25817 sha256=02fda880e2c114eb10f67fa8f367f64388269fc568afe6dc311d1eadfedd6b54\n",
            "  Stored in directory: /tmp/pip-ephem-wheel-cache-hsdgx0i6/wheels/52/cd/dc/1aa668555b599d1f997f7b802fded738ce7259c36c82d3497e\n",
            "  Building wheel for multi-person-tracker (setup.py) ... \u001b[?25l\u001b[?25hdone\n",
            "  Created wheel for multi-person-tracker: filename=multi_person_tracker-0.1-cp36-none-any.whl size=8880 sha256=cb5832a14394f899d12e24ccaab56142b88a7792775571c7342c884b08b0b05a\n",
            "  Stored in directory: /tmp/pip-ephem-wheel-cache-hsdgx0i6/wheels/05/7c/60/cc4b54c579c6e3e98da59223faedcc10ea1f1abe1bffcf3189\n",
            "  Building wheel for PyOpenGL (setup.py) ... \u001b[?25l\u001b[?25hdone\n",
            "  Created wheel for PyOpenGL: filename=PyOpenGL-3.1.0-cp36-none-any.whl size=1745212 sha256=2c3180e1cb8a751a4a414a8992c97d5419a30dbd87c200bed1af7ef0839e020a\n",
            "  Stored in directory: /root/.cache/pip/wheels/6c/00/7f/1dd736f380848720ad79a1a1de5272e0d3f79c15a42968fb58\n",
            "  Building wheel for gast (setup.py) ... \u001b[?25l\u001b[?25hdone\n",
            "  Created wheel for gast: filename=gast-0.2.2-cp36-none-any.whl size=7540 sha256=346db821198236fc0e4dcd034abdb0673406b9b13c98dc3cd590bdce0e49a3d7\n",
            "  Stored in directory: /root/.cache/pip/wheels/5c/2e/7e/a1d4d4fcebe6c381f378ce7743a3ced3699feb89bcfbdadadd\n",
            "Successfully built PyYAML trimesh progress filterpy chumpy yolov3 multi-person-tracker PyOpenGL gast\n",
            "\u001b[31mERROR: umap-learn 0.5.0 has requirement numba>=0.49, but you'll have numba 0.47.0 which is incompatible.\u001b[0m\n",
            "\u001b[31mERROR: tensorflow-probability 0.12.1 has requirement gast>=0.3.2, but you'll have gast 0.2.2 which is incompatible.\u001b[0m\n",
            "\u001b[31mERROR: spacy 2.2.4 has requirement tqdm<5.0.0,>=4.38.0, but you'll have tqdm 4.28.1 which is incompatible.\u001b[0m\n",
            "\u001b[31mERROR: pynndescent 0.5.1 has requirement numba>=0.51.2, but you'll have numba 0.47.0 which is incompatible.\u001b[0m\n",
            "\u001b[31mERROR: fbprophet 0.7.1 has requirement tqdm>=4.36.1, but you'll have tqdm 4.28.1 which is incompatible.\u001b[0m\n",
            "\u001b[31mERROR: albumentations 0.1.12 has requirement imgaug<0.2.7,>=0.2.5, but you'll have imgaug 0.2.9 which is incompatible.\u001b[0m\n",
            "Installing collected packages: tqdm, PyYAML, yacs, llvmlite, numba, torchgeometry, smplx, joblib, pillow, trimesh, freetype-py, PyOpenGL, pyrender, progress, matplotlib, filterpy, keras-applications, gast, tensorflow-estimator, tensorboard, tensorflow, torchvision, scikit-video, opencv-python, chumpy, yolov3, multi-person-tracker\n",
            "  Found existing installation: tqdm 4.41.1\n",
            "    Uninstalling tqdm-4.41.1:\n",
            "      Successfully uninstalled tqdm-4.41.1\n",
            "  Found existing installation: PyYAML 3.13\n",
            "    Uninstalling PyYAML-3.13:\n",
            "      Successfully uninstalled PyYAML-3.13\n",
            "  Found existing installation: llvmlite 0.34.0\n",
            "    Uninstalling llvmlite-0.34.0:\n",
            "      Successfully uninstalled llvmlite-0.34.0\n",
            "  Found existing installation: numba 0.51.2\n",
            "    Uninstalling numba-0.51.2:\n",
            "      Successfully uninstalled numba-0.51.2\n",
            "  Found existing installation: joblib 1.0.0\n",
            "    Uninstalling joblib-1.0.0:\n",
            "      Successfully uninstalled joblib-1.0.0\n",
            "  Found existing installation: Pillow 7.0.0\n",
            "    Uninstalling Pillow-7.0.0:\n",
            "      Successfully uninstalled Pillow-7.0.0\n",
            "  Found existing installation: PyOpenGL 3.1.5\n",
            "    Uninstalling PyOpenGL-3.1.5:\n",
            "      Successfully uninstalled PyOpenGL-3.1.5\n",
            "  Found existing installation: matplotlib 3.2.2\n",
            "    Uninstalling matplotlib-3.2.2:\n",
            "      Successfully uninstalled matplotlib-3.2.2\n",
            "  Found existing installation: gast 0.3.3\n",
            "    Uninstalling gast-0.3.3:\n",
            "      Successfully uninstalled gast-0.3.3\n",
            "  Found existing installation: tensorflow-estimator 2.4.0\n",
            "    Uninstalling tensorflow-estimator-2.4.0:\n",
            "      Successfully uninstalled tensorflow-estimator-2.4.0\n",
            "  Found existing installation: tensorboard 2.4.1\n",
            "    Uninstalling tensorboard-2.4.1:\n",
            "      Successfully uninstalled tensorboard-2.4.1\n",
            "  Found existing installation: tensorflow 2.4.1\n",
            "    Uninstalling tensorflow-2.4.1:\n",
            "      Successfully uninstalled tensorflow-2.4.1\n",
            "  Found existing installation: torchvision 0.8.1+cu101\n",
            "    Uninstalling torchvision-0.8.1+cu101:\n",
            "      Successfully uninstalled torchvision-0.8.1+cu101\n",
            "  Found existing installation: opencv-python 4.1.2.30\n",
            "    Uninstalling opencv-python-4.1.2.30:\n",
            "      Successfully uninstalled opencv-python-4.1.2.30\n",
            "Successfully installed PyOpenGL-3.1.0 PyYAML-5.3.1 chumpy-0.70 filterpy-1.4.5 freetype-py-2.2.0 gast-0.2.2 joblib-0.14.1 keras-applications-1.0.8 llvmlite-0.32.1 matplotlib-3.1.3 multi-person-tracker-0.1 numba-0.47.0 opencv-python-3.4.5.20 pillow-5.0.0 progress-1.5 pyrender-0.1.36 scikit-video-1.1.11 smplx-0.1.26 tensorboard-1.15.0 tensorflow-1.15.4 tensorflow-estimator-1.15.1 torchgeometry-0.1.2 torchvision-0.5.0 tqdm-4.28.1 trimesh-3.5.25 yacs-0.1.6 yolov3-0.1\n"
          ],
          "name": "stdout"
        },
        {
          "output_type": "display_data",
          "data": {
            "application/vnd.colab-display-data+json": {
              "pip_warning": {
                "packages": [
                  "PIL",
                  "matplotlib",
                  "mpl_toolkits",
                  "tqdm"
                ]
              }
            }
          },
          "metadata": {
            "tags": []
          }
        },
        {
          "output_type": "stream",
          "text": [
            "Requirement already satisfied: ffmpeg-python in /usr/local/lib/python3.6/dist-packages (0.2.0)\n",
            "Requirement already satisfied: future in /usr/local/lib/python3.6/dist-packages (from ffmpeg-python) (0.16.0)\n"
          ],
          "name": "stdout"
        }
      ]
    },
    {
      "cell_type": "code",
      "metadata": {
        "id": "Zuqt7eiBwnQY"
      },
      "source": [
        "#!ffmpeg -i v1.mp4 -filter:v fps=fps=3 v1_fps.mp4"
      ],
      "execution_count": null,
      "outputs": []
    },
    {
      "cell_type": "code",
      "metadata": {
        "colab": {
          "base_uri": "https://localhost:8080/"
        },
        "id": "brZt0q3Y6X5W",
        "outputId": "26e88871-1faa-4021-e737-3a83a04c0e3e"
      },
      "source": [
        "# Download pretrained weights and SMPL data\n",
        "!source scripts/prepare_data.sh"
      ],
      "execution_count": 7,
      "outputs": [
        {
          "output_type": "stream",
          "text": [
            "Downloading...\n",
            "From: https://drive.google.com/uc?id=1untXhYOLQtpNEy4GTY_0fL_H-k6cTf_r\n",
            "To: /content/pose-generation/data/vibe_data.zip\n",
            "561MB [00:02, 196MB/s]\n",
            "Archive:  vibe_data.zip\n",
            "replace vibe_data/smpl_mean_params.npz? [y]es, [n]o, [A]ll, [N]one, [r]ename: A\n",
            "  inflating: vibe_data/smpl_mean_params.npz  \n",
            "  inflating: vibe_data/vibe_model_w_3dpw.pth.tar  \n",
            "  inflating: vibe_data/gmm_08.pkl    \n",
            "  inflating: vibe_data/J_regressor_h36m.npy  \n",
            "  inflating: vibe_data/vibe_model_wo_3dpw.pth.tar  \n",
            "  inflating: vibe_data/SMPL_NEUTRAL.pkl  \n",
            "  inflating: vibe_data/J_regressor_extra.npy  \n",
            "  inflating: vibe_data/spin_model_checkpoint.pth.tar  \n",
            "  inflating: vibe_data/sample_video.mp4  \n",
            "  inflating: vibe_data/yolov3.weights  \n"
          ],
          "name": "stdout"
        }
      ]
    },
    {
      "cell_type": "markdown",
      "metadata": {
        "id": "J7A7eakXIn9A"
      },
      "source": [
        "### Run the demo code.\n",
        "\n",
        "Check https://github.com/mkocabas/VIBE/blob/master/doc/demo.md for more details about demo.\n",
        "\n",
        "**Note:** Final rendering is slow compared to inference. We use pyrender with GPU accelaration and it takes 2-3 FPS per image. Please let us know if you know any faster alternative. "
      ]
    },
    {
      "cell_type": "code",
      "metadata": {
        "id": "CgTKJBdKDsVA",
        "colab": {
          "base_uri": "https://localhost:8080/"
        },
        "outputId": "db57ec4a-c000-47a8-afc2-26c7401a2cc8"
      },
      "source": [
        "!python demo.py --vid_file img_raw_03.avi --output_folder out_v2 #--save_obj"
      ],
      "execution_count": 10,
      "outputs": [
        {
          "output_type": "stream",
          "text": [
            "Running \"ffmpeg -i img_raw_03.avi -f image2 -v error -r 25 /tmp/img_raw_03_avi/%06d.png\"\n",
            "Images saved to \"/tmp/img_raw_03_avi\"\n",
            "Input video number of frames 2466\n",
            "Downloading files from https://raw.githubusercontent.com/mkocabas/yolov3-pytorch/master/yolov3/config/yolov3.cfg\n",
            "--2021-01-31 19:06:56--  https://raw.githubusercontent.com/mkocabas/yolov3-pytorch/master/yolov3/config/yolov3.cfg\n",
            "Resolving raw.githubusercontent.com (raw.githubusercontent.com)... 151.101.0.133, 151.101.64.133, 151.101.128.133, ...\n",
            "Connecting to raw.githubusercontent.com (raw.githubusercontent.com)|151.101.0.133|:443... connected.\n",
            "HTTP request sent, awaiting response... 200 OK\n",
            "Length: 8338 (8.1K) [text/plain]\n",
            "Saving to: ‘/root/.torch/config/yolov3.cfg’\n",
            "\n",
            "yolov3.cfg          100%[===================>]   8.14K  --.-KB/s    in 0s      \n",
            "\n",
            "2021-01-31 19:06:56 (77.5 MB/s) - ‘/root/.torch/config/yolov3.cfg’ saved [8338/8338]\n",
            "\n",
            "Running Multi-Person-Tracker\n",
            "100% 206/206 [01:56<00:00,  2.20it/s]\n",
            "Finished. Detection + Tracking FPS 21.16\n",
            "WARNING: You are using a SMPL model, with only 10 shape coefficients.\n",
            "Downloading: \"https://download.pytorch.org/models/resnet50-19c8e357.pth\" to /root/.cache/torch/checkpoints/resnet50-19c8e357.pth\n",
            "100% 97.8M/97.8M [00:00<00:00, 267MB/s]\n",
            "WARNING: You are using a SMPL model, with only 10 shape coefficients.\n",
            "=> loaded pretrained model from 'data/vibe_data/spin_model_checkpoint.pth.tar'\n",
            "Performance of pretrained model on 3DPW: 56.56075477600098\n",
            "Loaded pretrained weights from \"data/vibe_data/vibe_model_wo_3dpw.pth.tar\"\n",
            "Running VIBE on each tracklet...\n",
            "100% 4/4 [00:55<00:00, 12.34s/it]\n",
            "VIBE FPS: 44.81\n",
            "Total time spent: 197.89 seconds (including model loading time).\n",
            "Total FPS (including model loading time): 12.46.\n",
            "Saving output results to \"out_v2/img_raw_03.avi/vibe_output.pkl\".\n",
            "WARNING: You are using a SMPL model, with only 10 shape coefficients.\n",
            "Rendering output video, writing frames to /tmp/img_raw_03_avi_output\n",
            "100% 2466/2466 [05:46<00:00, 21.39it/s]\n",
            "Saving result video to out_v2/img_raw_03.avi/img_raw_03.avi_vibe_result.mp4\n",
            "Running \"ffmpeg -y -threads 16 -i /tmp/img_raw_03_avi_output/%06d.png -profile:v baseline -level 3.0 -c:v libx264 -pix_fmt yuv420p -an -v error out_v2/img_raw_03.avi/img_raw_03.avi_vibe_result.mp4\"\n",
            "================= END =================\n"
          ],
          "name": "stdout"
        }
      ]
    },
    {
      "cell_type": "code",
      "metadata": {
        "id": "etNbnTnXyWgi"
      },
      "source": [
        "# Play the generated video\n",
        "from IPython.display import HTML\n",
        "from base64 import b64encode\n",
        "\n",
        "def video(path):\n",
        "  mp4 = open(path,'rb').read()\n",
        "  data_url = \"data:video/mp4;base64,\" + b64encode(mp4).decode()\n",
        "  return HTML('<video width=500 controls loop> <source src=\"%s\" type=\"video/mp4\"></video>' % data_url)\n",
        "\n",
        "#video('out_v2/img_raw_03.avi/img_raw_03.avi_vibe_result.mp4')"
      ],
      "execution_count": 22,
      "outputs": []
    },
    {
      "cell_type": "code",
      "metadata": {
        "id": "WJKSwDZSNbxf"
      },
      "source": [
        "#!zip -r 0008.zip output/v1/meshes/0008"
      ],
      "execution_count": null,
      "outputs": []
    },
    {
      "cell_type": "code",
      "metadata": {
        "id": "FGcw0HzhtPxj"
      },
      "source": [
        "# Inspect the output file content\n",
        "import joblib\n",
        "output = joblib.load('output/v1/vibe_output.pkl')\n",
        "print('Track ids:', output.keys(), end='\\n\\n')\n",
        "\n",
        "print('VIBE output file content:', end='\\n\\n')\n",
        "for k,v in output[1].items():\n",
        "  if k != 'joints2d': \n",
        "    print(k, v.shape)"
      ],
      "execution_count": null,
      "outputs": []
    }
  ]
}